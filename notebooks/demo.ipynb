{
 "cells": [
  {
   "cell_type": "code",
   "execution_count": 1,
   "metadata": {},
   "outputs": [
    {
     "name": "stdout",
     "output_type": "stream",
     "text": [
      "deleted: In\n",
      "deleted: Out\n",
      "deleted: _\n",
      "deleted: _dh\n",
      "deleted: _i\n",
      "deleted: _i1\n",
      "deleted: _ih\n",
      "deleted: _ii\n",
      "deleted: _iii\n",
      "deleted: _oh\n",
      "deleted: clearvars\n",
      "deleted: exit\n",
      "deleted: get_ipython\n",
      "deleted: open\n",
      "deleted: quit\n"
     ]
    }
   ],
   "source": [
    "# Add relevant Jupyter notebook extensions\n",
    "def clearvars():    \n",
    "    for el in sorted(globals()):\n",
    "        if '__' not in el:\n",
    "                print(f'deleted: {el}')\n",
    "                del el\n",
    "clearvars()"
   ]
  },
  {
   "cell_type": "code",
   "execution_count": 2,
   "metadata": {},
   "outputs": [],
   "source": [
    "# You can double-check your Python path like this...\n",
    "\n",
    "import sys  \n",
    "\n",
    "\n",
    "# Adds the B1-CODING-PRACTICAL-MT24 directory to the Python path\n",
    "\n",
    "\n"
   ]
  },
  {
   "cell_type": "markdown",
   "metadata": {},
   "source": [
    "# Simulate closed-loop\n",
    "After implementing your control functionality, you can simulate the closed-loop with code that looks something like this..."
   ]
  },
  {
   "cell_type": "code",
   "execution_count": 3,
   "metadata": {},
   "outputs": [
    {
     "name": "stdout",
     "output_type": "stream",
     "text": [
      "arr\n"
     ]
    },
    {
     "ename": "TypeError",
     "evalue": "controller.control() takes 2 positional arguments but 3 were given",
     "output_type": "error",
     "traceback": [
      "\u001b[1;31m---------------------------------------------------------------------------\u001b[0m",
      "\u001b[1;31mTypeError\u001b[0m                                 Traceback (most recent call last)",
      "Cell \u001b[1;32mIn[3], line 14\u001b[0m\n\u001b[0;32m     10\u001b[0m closed_loop \u001b[38;5;241m=\u001b[39m ClosedLoop(sub,mycontroller)\n\u001b[0;32m     11\u001b[0m mission \u001b[38;5;241m=\u001b[39m Mission\u001b[38;5;241m.\u001b[39mfrom_csv(\u001b[38;5;124mr\u001b[39m\u001b[38;5;124m\"\u001b[39m\u001b[38;5;124mC:\u001b[39m\u001b[38;5;124m\\\u001b[39m\u001b[38;5;124mUsers\u001b[39m\u001b[38;5;124m\\\u001b[39m\u001b[38;5;124mbenji\u001b[39m\u001b[38;5;124m\\\u001b[39m\u001b[38;5;124mOneDrive - Nexus365\u001b[39m\u001b[38;5;124m\\\u001b[39m\u001b[38;5;124mCatz Engineering\u001b[39m\u001b[38;5;124m\\\u001b[39m\u001b[38;5;124myear 3\u001b[39m\u001b[38;5;124m\\\u001b[39m\u001b[38;5;124mStandard\u001b[39m\u001b[38;5;124m\\\u001b[39m\u001b[38;5;124mB1\u001b[39m\u001b[38;5;124m\\\u001b[39m\u001b[38;5;124mcode\u001b[39m\u001b[38;5;124m\\\u001b[39m\u001b[38;5;124mpython\u001b[39m\u001b[38;5;124m\\\u001b[39m\u001b[38;5;124mb1-coding-practical-mt24\u001b[39m\u001b[38;5;124m\\\u001b[39m\u001b[38;5;124mdata\u001b[39m\u001b[38;5;124m\\\u001b[39m\u001b[38;5;124mmission.csv\u001b[39m\u001b[38;5;124m\"\u001b[39m)\n\u001b[1;32m---> 14\u001b[0m trajectory \u001b[38;5;241m=\u001b[39m \u001b[43mclosed_loop\u001b[49m\u001b[38;5;241;43m.\u001b[39;49m\u001b[43msimulate_with_random_disturbances\u001b[49m\u001b[43m(\u001b[49m\u001b[43mmission\u001b[49m\u001b[43m)\u001b[49m\n\u001b[0;32m     15\u001b[0m trajectory\u001b[38;5;241m.\u001b[39mplot_completed_mission(mission)\n\u001b[0;32m     17\u001b[0m \u001b[38;5;66;03m###print(len(trajectory.position[:,1]))\u001b[39;00m\n\u001b[0;32m     18\u001b[0m \u001b[38;5;66;03m#print(len(mission.reference)) #same length \u001b[39;00m\n",
      "File \u001b[1;32mc:\\Users\\benji\\OneDrive - Nexus365\\Catz Engineering\\year 3\\Standard\\B1\\code\\python\\first folder\\b1-coding-practical-mt24\\uuv_mission\\dynamic.py:120\u001b[0m, in \u001b[0;36mClosedLoop.simulate_with_random_disturbances\u001b[1;34m(self, mission, variance)\u001b[0m\n\u001b[0;32m    118\u001b[0m \u001b[38;5;28;01mdef\u001b[39;00m \u001b[38;5;21msimulate_with_random_disturbances\u001b[39m(\u001b[38;5;28mself\u001b[39m, mission: Mission, variance: \u001b[38;5;28mfloat\u001b[39m \u001b[38;5;241m=\u001b[39m \u001b[38;5;241m0.5\u001b[39m) \u001b[38;5;241m-\u001b[39m\u001b[38;5;241m>\u001b[39m Trajectory:\n\u001b[0;32m    119\u001b[0m     disturbances \u001b[38;5;241m=\u001b[39m np\u001b[38;5;241m.\u001b[39mrandom\u001b[38;5;241m.\u001b[39mnormal(\u001b[38;5;241m0\u001b[39m, variance, \u001b[38;5;28mlen\u001b[39m(mission\u001b[38;5;241m.\u001b[39mreference))\n\u001b[1;32m--> 120\u001b[0m     \u001b[38;5;28;01mreturn\u001b[39;00m \u001b[38;5;28;43mself\u001b[39;49m\u001b[38;5;241;43m.\u001b[39;49m\u001b[43msimulate\u001b[49m\u001b[43m(\u001b[49m\u001b[43mmission\u001b[49m\u001b[43m,\u001b[49m\u001b[43m \u001b[49m\u001b[43mdisturbances\u001b[49m\u001b[43m)\u001b[49m\n",
      "File \u001b[1;32mc:\\Users\\benji\\OneDrive - Nexus365\\Catz Engineering\\year 3\\Standard\\B1\\code\\python\\first folder\\b1-coding-practical-mt24\\uuv_mission\\dynamic.py:113\u001b[0m, in \u001b[0;36mClosedLoop.simulate\u001b[1;34m(self, mission, disturbances)\u001b[0m\n\u001b[0;32m    108\u001b[0m     observation_t \u001b[38;5;241m=\u001b[39m \u001b[38;5;28mself\u001b[39m\u001b[38;5;241m.\u001b[39mplant\u001b[38;5;241m.\u001b[39mget_depth() \n\u001b[0;32m    110\u001b[0m     \u001b[38;5;66;03m# Call your controller here  \u001b[39;00m\n\u001b[0;32m    111\u001b[0m     \u001b[38;5;66;03m#actions[t] =\u001b[39;00m\n\u001b[1;32m--> 113\u001b[0m     actions[t] \u001b[38;5;241m=\u001b[39m\u001b[38;5;28;43mself\u001b[39;49m\u001b[38;5;241;43m.\u001b[39;49m\u001b[43mcont\u001b[49m\u001b[38;5;241;43m.\u001b[39;49m\u001b[43mcontrol\u001b[49m\u001b[43m(\u001b[49m\u001b[43mcontroller\u001b[49m\u001b[43m,\u001b[49m\u001b[43m(\u001b[49m\u001b[43mmission\u001b[49m\u001b[38;5;241;43m.\u001b[39;49m\u001b[43mreference\u001b[49m\u001b[43m[\u001b[49m\u001b[43mt\u001b[49m\u001b[43m]\u001b[49m\u001b[38;5;241;43m-\u001b[39;49m\u001b[43mpositions\u001b[49m\u001b[43m[\u001b[49m\u001b[43mt\u001b[49m\u001b[43m,\u001b[49m\u001b[38;5;241;43m1\u001b[39;49m\u001b[43m]\u001b[49m\u001b[43m)\u001b[49m\u001b[43m)\u001b[49m\n\u001b[0;32m    114\u001b[0m     \u001b[38;5;28mself\u001b[39m\u001b[38;5;241m.\u001b[39mplant\u001b[38;5;241m.\u001b[39mtransition(actions[t], disturbances[t])\n\u001b[0;32m    116\u001b[0m \u001b[38;5;28;01mreturn\u001b[39;00m Trajectory(positions)\n",
      "\u001b[1;31mTypeError\u001b[0m: controller.control() takes 2 positional arguments but 3 were given"
     ]
    }
   ],
   "source": [
    "# Import relevant modules\n",
    "import os\n",
    "sys.path.append(os.path.abspath('..'))\n",
    "from uuv_mission.dynamic import *\n",
    "from uuv_mission.terrain import *\n",
    "from uuv_mission.control import *\n",
    "sub = Submarine()\n",
    "mycontroller = controller(0.15,0.65)\n",
    "# Instantiate your controller (depending on your implementation)\n",
    "closed_loop = ClosedLoop(sub,mycontroller)\n",
    "mission = Mission.from_csv(r\"C:\\Users\\benji\\OneDrive - Nexus365\\Catz Engineering\\year 3\\Standard\\B1\\code\\python\\b1-coding-practical-mt24\\data\\mission.csv\")\n",
    "\n",
    "\n",
    "trajectory = closed_loop.simulate_with_random_disturbances(mission)\n",
    "trajectory.plot_completed_mission(mission)\n",
    "\n",
    "###print(len(trajectory.position[:,1]))\n",
    "#print(len(mission.reference)) #same length "
   ]
  },
  {
   "cell_type": "code",
   "execution_count": 4,
   "metadata": {},
   "outputs": [
    {
     "ename": "TypeError",
     "evalue": "ClosedLoop.__init__() missing 1 required positional argument: 'cont'",
     "output_type": "error",
     "traceback": [
      "\u001b[1;31m---------------------------------------------------------------------------\u001b[0m",
      "\u001b[1;31mTypeError\u001b[0m                                 Traceback (most recent call last)",
      "Cell \u001b[1;32mIn[4], line 3\u001b[0m\n\u001b[0;32m      1\u001b[0m sub \u001b[38;5;241m=\u001b[39m Submarine()\n\u001b[0;32m      2\u001b[0m \u001b[38;5;66;03m# Instantiate your controller (depending on your implementation)\u001b[39;00m\n\u001b[1;32m----> 3\u001b[0m closed_loop \u001b[38;5;241m=\u001b[39m \u001b[43mClosedLoop\u001b[49m\u001b[43m(\u001b[49m\u001b[43msub\u001b[49m\u001b[43m)\u001b[49m\n\u001b[0;32m      4\u001b[0m mission \u001b[38;5;241m=\u001b[39m Mission\u001b[38;5;241m.\u001b[39mfrom_csv(\u001b[38;5;124mr\u001b[39m\u001b[38;5;124m\"\u001b[39m\u001b[38;5;124mC:\u001b[39m\u001b[38;5;124m\\\u001b[39m\u001b[38;5;124mUsers\u001b[39m\u001b[38;5;124m\\\u001b[39m\u001b[38;5;124mbenji\u001b[39m\u001b[38;5;124m\\\u001b[39m\u001b[38;5;124mOneDrive - Nexus365\u001b[39m\u001b[38;5;124m\\\u001b[39m\u001b[38;5;124mCatz Engineering\u001b[39m\u001b[38;5;124m\\\u001b[39m\u001b[38;5;124myear 3\u001b[39m\u001b[38;5;124m\\\u001b[39m\u001b[38;5;124mStandard\u001b[39m\u001b[38;5;124m\\\u001b[39m\u001b[38;5;124mB1\u001b[39m\u001b[38;5;124m\\\u001b[39m\u001b[38;5;124mcode\u001b[39m\u001b[38;5;124m\\\u001b[39m\u001b[38;5;124mpython\u001b[39m\u001b[38;5;124m\\\u001b[39m\u001b[38;5;124mb1-coding-practical-mt24\u001b[39m\u001b[38;5;124m\\\u001b[39m\u001b[38;5;124mdata\u001b[39m\u001b[38;5;124m\\\u001b[39m\u001b[38;5;124mmission.csv\u001b[39m\u001b[38;5;124m\"\u001b[39m)\n\u001b[0;32m      7\u001b[0m trajectory \u001b[38;5;241m=\u001b[39m closed_loop\u001b[38;5;241m.\u001b[39msimulate_with_random_disturbances(mission)\n",
      "\u001b[1;31mTypeError\u001b[0m: ClosedLoop.__init__() missing 1 required positional argument: 'cont'"
     ]
    }
   ],
   "source": [
    "sub = Submarine()\n",
    "# Instantiate your controller (depending on your implementation)\n",
    "closed_loop = ClosedLoop(sub)\n",
    "mission = Mission.from_csv(r\"C:\\Users\\benji\\OneDrive - Nexus365\\Catz Engineering\\year 3\\Standard\\B1\\code\\python\\b1-coding-practical-mt24\\data\\mission.csv\")\n",
    "\n",
    "\n",
    "trajectory = closed_loop.simulate_with_random_disturbances(mission)\n",
    "#trajectory.plot_completed_mission(mission)\n",
    "\n",
    "print(len(trajectory.position[:,1]))\n",
    "print(len(mission.reference)) #same length\n",
    "#for i in range(0, len(mission.reference))"
   ]
  }
 ],
 "metadata": {
  "kernelspec": {
   "display_name": "B1venv",
   "language": "python",
   "name": "python3"
  },
  "language_info": {
   "codemirror_mode": {
    "name": "ipython",
    "version": 3
   },
   "file_extension": ".py",
   "mimetype": "text/x-python",
   "name": "python",
   "nbconvert_exporter": "python",
   "pygments_lexer": "ipython3",
   "version": "3.11.9"
  }
 },
 "nbformat": 4,
 "nbformat_minor": 2
}
